{
 "cells": [
  {
   "cell_type": "code",
   "execution_count": 1,
   "id": "270a3c3f",
   "metadata": {},
   "outputs": [],
   "source": [
    "from pytube import YouTube, exceptions\n",
    "import json\n",
    "import os\n",
    "import pandas as pd"
   ]
  },
  {
   "cell_type": "code",
   "execution_count": 2,
   "id": "d3adb716",
   "metadata": {},
   "outputs": [],
   "source": [
    "def resolution_generator(resolutions):\n",
    "    for res in resolutions:\n",
    "        yield res"
   ]
  },
  {
   "cell_type": "code",
   "execution_count": 3,
   "id": "f403ae7c",
   "metadata": {},
   "outputs": [],
   "source": [
    "def load_json(loc):\n",
    "    with open(loc, 'r') as f:\n",
    "        json_data = json.load(f)\n",
    "        f.close()\n",
    "    return json_data"
   ]
  },
  {
   "cell_type": "code",
   "execution_count": 4,
   "id": "0918d33b",
   "metadata": {},
   "outputs": [],
   "source": [
    "data = load_json('data.json')"
   ]
  },
  {
   "cell_type": "code",
   "execution_count": 5,
   "id": "4988ee00",
   "metadata": {},
   "outputs": [],
   "source": [
    "main_dir = r\"C:\\Users\\Mohammed Faizan\\OneDrive\\Desktop\\Faizan\\Projects\\iNueronChallenge28Aug\\videos\""
   ]
  },
  {
   "cell_type": "code",
   "execution_count": 6,
   "id": "0042b267",
   "metadata": {},
   "outputs": [
    {
     "name": "stdout",
     "output_type": "stream",
     "text": [
      "1: 82fPl5l0vXY.mp4 already exists.\n"
     ]
    }
   ],
   "source": [
    "skipped_videos = []\n",
    "for i, videoId in enumerate(data['videoId']):\n",
    "    filename = f\"{videoId}.mp4\"\n",
    "    if not os.path.isfile(os.path.join(main_dir, filename)):\n",
    "        url = f\"https://www.youtube.com/watch?v={videoId}\"\n",
    "        rgen = resolution_generator(['360p', '480p', '720p', '144p'])\n",
    "        res = next(rgen)\n",
    "        print(f\"{i+1}: connecting to \", videoId)\n",
    "        yt_video = YouTube(url)\n",
    "        while True:\n",
    "            try:\n",
    "                print(f'{i+1}: Downloading with {res}')\n",
    "                stream = yt_video.streams.filter(progressive=True, file_extension='mp4', res = res).first()\n",
    "                stream.download(main_dir, filename = filename)\n",
    "                print(f'{i+1}: Downloaded {videoId} in {stream.resolution}\\n')\n",
    "                break\n",
    "            except StopIteration:\n",
    "                print('Could not manually select the proper resolution\\nRetrying with the highest resolution')\n",
    "                try:\n",
    "                    stream = yt_video.streams.filter(progressive=True, file_extension='mp4').order_by('resolution').desc().first()\n",
    "                    stream.download(main_dir, filename = filename)\n",
    "                    print(f'{i+1}: Downloaded {videoId} in {stream.resolution}\\n')\n",
    "                except:\n",
    "                    print('Retry with highest resolution failed')\n",
    "                    skipped_videos.append(videoId)\n",
    "                    break\n",
    "            except exceptions.LiveStreamError as e:\n",
    "                print(e)\n",
    "                print('moving on...')\n",
    "                break\n",
    "            except Exception as e:\n",
    "                print('--- ERROR ---')\n",
    "                print(e)\n",
    "                print(f'{i+1}: Error in ', videoId)\n",
    "                res = next(rgen)\n",
    "                continue\n",
    "    else:\n",
    "        print(f\"{i+1}: {filename} already exists.\")"
   ]
  },
  {
   "cell_type": "code",
   "execution_count": null,
   "id": "5e706a50",
   "metadata": {},
   "outputs": [],
   "source": []
  }
 ],
 "metadata": {
  "kernelspec": {
   "display_name": "Python 3 (ipykernel)",
   "language": "python",
   "name": "python3"
  },
  "language_info": {
   "codemirror_mode": {
    "name": "ipython",
    "version": 3
   },
   "file_extension": ".py",
   "mimetype": "text/x-python",
   "name": "python",
   "nbconvert_exporter": "python",
   "pygments_lexer": "ipython3",
   "version": "3.9.12"
  },
  "varInspector": {
   "cols": {
    "lenName": 16,
    "lenType": 16,
    "lenVar": 40
   },
   "kernels_config": {
    "python": {
     "delete_cmd_postfix": "",
     "delete_cmd_prefix": "del ",
     "library": "var_list.py",
     "varRefreshCmd": "print(var_dic_list())"
    },
    "r": {
     "delete_cmd_postfix": ") ",
     "delete_cmd_prefix": "rm(",
     "library": "var_list.r",
     "varRefreshCmd": "cat(var_dic_list()) "
    }
   },
   "types_to_exclude": [
    "module",
    "function",
    "builtin_function_or_method",
    "instance",
    "_Feature"
   ],
   "window_display": false
  }
 },
 "nbformat": 4,
 "nbformat_minor": 5
}
